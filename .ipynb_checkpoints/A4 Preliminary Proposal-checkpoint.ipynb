{
 "cells": [
  {
   "cell_type": "markdown",
   "id": "e36222b0-0615-43db-9862-23afd820245c",
   "metadata": {},
   "source": [
    "# HCDE 410 A4 Final project preliminary proposal "
   ]
  },
  {
   "cell_type": "markdown",
   "id": "c8453a12-e3b0-460b-8017-0d8877bb4306",
   "metadata": {},
   "source": [
    "## Motivation and problem statement:"
   ]
  },
  {
   "cell_type": "markdown",
   "id": "51fd0297-bd76-4c18-84a2-807c8ef447dd",
   "metadata": {},
   "source": [
    "As global warming and other environmental issues are emerging due to the vast traffic emissions, electric vehicle have become more available and popular in the market. For this analysis, I am planning to investigate the differences between common electric car models that is available in the market in terms of their performance, price, and other specs of these electric vehicles. This is practical because different costumers will be looking at different focal point when purchasing for a new vehicle, such as performance could be more important than an affordable price, and vice versa. Therefore, it will be useful and human-centered to help the costumer to visulaize and decide on their new electric vehicle purchase to protect the planet. In the end, we want to learn about the trend of the electric vehicle market and understand different car company's strategies in making their electric vehicles to help the costumer making a purchase decision."
   ]
  },
  {
   "cell_type": "markdown",
   "id": "fe55c817-328d-4f13-9040-fed9b68e899d",
   "metadata": {},
   "source": [
    "## Data selected for analysis: "
   ]
  },
  {
   "cell_type": "markdown",
   "id": "02036384-a432-4cd5-a0be-132c45af3091",
   "metadata": {},
   "source": [
    "The dataset I have chosen was recorded on the dataset website [Kaggle](https://www.kaggle.com). This is a website that various publicly available dataset for everyone to access to. I will be pulling the data from the particular dataset, titled as [Cheapest Electric Cars](https://www.kaggle.com/datasets/kkhandekar/cheapest-electric-cars). This dataset uses the [CC0: Public Domain](https://creativecommons.org/publicdomain/zero/1.0/) license, meaning that the author who collected these data give the rights to the public domain to copy, modify, and perform the work. In this dataset, it records most of the popular electric vehicle models, along with their performance specifications and other statistical data, that will offer great analysis to each vehicle models. These data will corresponds to the motivation and problem statement to provide the best suggestions for electric car shoppers and potentially encourage them to replace the gasoline car for the same money/performance standards. However, the ethical concern is that this dataset is \"too\" available to the general public that people could modify the data if they choose to, which makes the dataset slightly less reliable compared to the offical dataset released by authoritative resources. Addtionally, the price and units are in the European standards, which puts the American costumer at a disadvantage, although some quick units/currency conversion could be done afterwards."
   ]
  },
  {
   "cell_type": "markdown",
   "id": "b4027f77-4d92-4cec-9083-74222183c89a",
   "metadata": {},
   "source": [
    "## Unknowns and dependencies: "
   ]
  },
  {
   "cell_type": "markdown",
   "id": "637a74c5-257d-4eba-ae11-4030aa2523c2",
   "metadata": {},
   "source": [
    "The biggest dependency is how well the actual data analysis will proceed. Potential results are if it is going to be more than expected amount of work to complete the analysis, or if the dataset do not provide enough data and requiring a second round of research for additional supporting dataset to substantiate our motivations and problem statements. Worst of the worst, I may have to start over for a completely new topic if there are not too many conclusions to pull as I have understood the scope better after the deep analysis process. Of course, there could also be more steps required to capture the most benefical conclusions of the analysis. These are all potential unknowns and dependencies that I have to explore deeper as I have actual dived into the project working space.\n",
    "\n",
    "Of course, there may be potential personal reasons that prohibits me to finish the project in time, such as exposure to Covid-19 or other physcial conditions that forces me to be unable to work effectively."
   ]
  },
  {
   "cell_type": "markdown",
   "id": "5077bff3-0477-46aa-acd0-84fe4db3e88a",
   "metadata": {},
   "source": [
    "## Colleague Feedback and Next Steps"
   ]
  },
  {
   "cell_type": "markdown",
   "id": "cec69379-211d-4219-8caa-06e8a5cf39a2",
   "metadata": {},
   "source": [
    "The overall plan and dataset is good. Since the project is trying to encourage people to buy electric cars and help them to understand the potentital of electric cars, it might be helpful to find an similiar dataset about the gasoline cars that is popular (maybe popular car in 2021). Then, I can compare the specifciations and the cost between the normal gasoline cars. It will be more persuasive to convince that the electric cars are good after the comparision. Also, maybe get a dataset about the gas prices nowadays to show that the electric cars could potentially save money. Addtionally, maybe reserach for some articles that inlcude the perception that some people thinks electric is not as good as the gas cars and these perceptions can be included in the motivations and introduction statement to make the project seem more promising and increase its importance."
   ]
  },
  {
   "cell_type": "code",
   "execution_count": null,
   "id": "d4c7ed87-ccf0-497c-b993-9ad3420b3741",
   "metadata": {},
   "outputs": [],
   "source": []
  }
 ],
 "metadata": {
  "kernelspec": {
   "display_name": "Python 3 (ipykernel)",
   "language": "python",
   "name": "python3"
  },
  "language_info": {
   "codemirror_mode": {
    "name": "ipython",
    "version": 3
   },
   "file_extension": ".py",
   "mimetype": "text/x-python",
   "name": "python",
   "nbconvert_exporter": "python",
   "pygments_lexer": "ipython3",
   "version": "3.9.7"
  }
 },
 "nbformat": 4,
 "nbformat_minor": 5
}
