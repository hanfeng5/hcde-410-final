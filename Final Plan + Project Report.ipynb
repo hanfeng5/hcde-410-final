{
 "cells": [
  {
   "cell_type": "markdown",
   "id": "e36222b0-0615-43db-9862-23afd820245c",
   "metadata": {},
   "source": [
    "# HCDE 410 A4 Final project preliminary proposal "
   ]
  },
  {
   "cell_type": "markdown",
   "id": "c8453a12-e3b0-460b-8017-0d8877bb4306",
   "metadata": {},
   "source": [
    "## Motivation and problem statement:"
   ]
  },
  {
   "cell_type": "markdown",
   "id": "51fd0297-bd76-4c18-84a2-807c8ef447dd",
   "metadata": {},
   "source": [
    "As global warming and other environmental issues are emerging due to the vast traffic emissions, electric vehicle have become more available and popular in the market. For this analysis, I am planning to investigate the differences between common electric car models that is available in the market in terms of their performance, price, and other specs of these electric vehicles. This is practical because different costumers will be looking at different focal point when purchasing for a new vehicle, such as performance could be more important than an affordable price, and vice versa. Therefore, it will be useful and human-centered to help the costumer to visulaize and decide on their new electric vehicle purchase to protect the planet. In the end, we want to learn about the trend of the electric vehicle market and understand different car company's strategies in making their electric vehicles to help the costumer making a purchase decision."
   ]
  },
  {
   "cell_type": "markdown",
   "id": "fe55c817-328d-4f13-9040-fed9b68e899d",
   "metadata": {},
   "source": [
    "## Data selected for analysis: "
   ]
  },
  {
   "cell_type": "markdown",
   "id": "02036384-a432-4cd5-a0be-132c45af3091",
   "metadata": {},
   "source": [
    "The dataset I have chosen was recorded on the dataset website [Kaggle](https://www.kaggle.com). This is a website that various publicly available dataset for everyone to access to. I will be pulling the data from the particular dataset, titled as [Cheapest Electric Cars](https://www.kaggle.com/datasets/kkhandekar/cheapest-electric-cars). This dataset uses the [CC0: Public Domain](https://creativecommons.org/publicdomain/zero/1.0/) license, meaning that the author who collected these data give the rights to the public domain to copy, modify, and perform the work. In this dataset, it records most of the popular electric vehicle models, along with their performance specifications and other statistical data, that will offer great analysis to each vehicle models. These data will corresponds to the motivation and problem statement to provide the best suggestions for electric car shoppers and potentially encourage them to replace the gasoline car for the same money/performance standards. However, the ethical concern is that this dataset is \"too\" available to the general public that people could modify the data if they choose to, which makes the dataset slightly less reliable compared to the offical dataset released by authoritative resources. Addtionally, the price and units are in the European standards, which puts the American costumer at a disadvantage, although some quick units/currency conversion could be done afterwards."
   ]
  },
  {
   "cell_type": "markdown",
   "id": "ca6bc5ec-5e5a-4990-9df9-a29be5c10eb7",
   "metadata": {},
   "source": [
    "To investigate the fuel economy of common vehicles available in the market, I have used the dataset from [FuelEconomy.gov Web Services](https://www.fueleconomy.gov/feg/ws/index.shtml#fuelType1). This dataset is posted on the [US Department of Energy](https://www.energy.gov/eere/office-energy-efficiency-renewable-energy) website, which is also a subset of the EPA (United States Environemental Protection Agency) that releases the fuel economy data for each vehicle. This data will be helpful to investigate the cost difference between regular gasoline vehicles and EV vehicles.\n",
    "\n",
    "To understand the price of common popular vehicles, I will be using the [Car Prices Dataset](https://www.kaggle.com/datasets/sidharth178/car-prices-dataset?resource=download) in this project, captured from Kaggle again. However, this is not the most ideal dataset to use. It does NOT have a licnese or the origin of the data contents. It seems to be composed by a data scientist who have done similar works in the past, but they did not release where they have got the data from. Unfortuntely, other better dataset require payment or the scope is only targeting \"used cars\", which is not plausible for this project."
   ]
  },
  {
   "cell_type": "markdown",
   "id": "b4027f77-4d92-4cec-9083-74222183c89a",
   "metadata": {},
   "source": [
    "## Unknowns and dependencies: "
   ]
  },
  {
   "cell_type": "markdown",
   "id": "637a74c5-257d-4eba-ae11-4030aa2523c2",
   "metadata": {},
   "source": [
    "The biggest dependency is how well the actual data analysis will proceed. Potential results are if it is going to be more than expected amount of work to complete the analysis, or if the dataset do not provide enough data and requiring a second round of research for additional supporting dataset to substantiate our motivations and problem statements. Worst of the worst, I may have to start over for a completely new topic if there are not too many conclusions to pull as I have understood the scope better after the deep analysis process. Of course, there could also be more steps required to capture the most benefical conclusions of the analysis. These are all potential unknowns and dependencies that I have to explore deeper as I have actual dived into the project working space.\n",
    "\n",
    "Of course, there may be potential personal reasons that prohibits me to finish the project in time, such as exposure to Covid-19 or other physcial conditions that forces me to be unable to work effectively."
   ]
  },
  {
   "cell_type": "markdown",
   "id": "236ee837-dcb0-4c70-88ac-7d2373f414af",
   "metadata": {},
   "source": [
    "### Notes for Using Kaggle Data"
   ]
  },
  {
   "cell_type": "markdown",
   "id": "80ab2a78-2f85-49f9-9527-cbdce4fa9b3a",
   "metadata": {},
   "source": [
    "Kaggle is a public platform that peoople can publish their database and any other database that could have pontential reliability issues. For example, some of the database listed on Kaggle even do not have an origin source. In my project, the data is **scraped** from the online database [Electric Vehicle Database](https://ev-database.org/#sort:path~type~order=.rank~number~desc|range-slider-range:prev~next=0~1200|range-slider-acceleration:prev~next=2~23|range-slider-topspeed:prev~next=110~450|range-slider-battery:prev~next=10~200|range-slider-towweight:prev~next=0~2500|range-slider-fastcharge:prev~next=0~1500|paging:currentPage=0|paging:number=9). And this database is associated and partnered with the famous electric newsboard [Fully Charged](https://fullycharged.show/about-fully-charged/), which is the origin source of the data. Since the data is being scraped, there may be some loss of data and unknown dependencies regarding the reliability of the data.\n",
    "\n",
    "For the [Car Prices Dataset](https://www.kaggle.com/datasets/sidharth178/car-prices-dataset?resource=download) dataset, the dataset seems to be a private creation of a data scientist and there was no data origin to trace from. Therefore, this should be a yellow flag regarding where are the data coming from. Unfortunately, there is not other appropriate dataset to use, which I have to comprimise and assume the data is accurate. Therefore, if this project will be dived deeper for other professional investigation in the future, we HAVE TO re-examine the data for the car prices.\n"
   ]
  },
  {
   "cell_type": "markdown",
   "id": "5077bff3-0477-46aa-acd0-84fe4db3e88a",
   "metadata": {},
   "source": [
    "## Colleague Feedback and Next Steps (COMPLETED)"
   ]
  },
  {
   "cell_type": "markdown",
   "id": "cec69379-211d-4219-8caa-06e8a5cf39a2",
   "metadata": {},
   "source": [
    "The overall plan and dataset is good. Since the project is trying to encourage people to buy electric cars and help them to understand the potentital of electric cars, it might be helpful to find an similiar dataset about the gasoline cars that is popular (maybe popular car in 2021). Then, I can compare the specifciations and the cost between the normal gasoline cars. It will be more persuasive to convince that the electric cars are good after the comparision. Also, maybe get a dataset about the gas prices nowadays to show that the electric cars could potentially save money. Addtionally, maybe reserach for some articles that inlcude the perception that some people thinks electric is not as good as the gas cars and these perceptions can be included in the motivations and introduction statement to make the project seem more promising and increase its importance."
   ]
  },
  {
   "cell_type": "markdown",
   "id": "1dc6ac47-80ef-48a0-a9d6-3b5ee0b144ba",
   "metadata": {},
   "source": [
    "## Reserach Questions and Hypothesis"
   ]
  },
  {
   "cell_type": "markdown",
   "id": "acdaf112-2fed-4f40-9c85-0eeb51aedbd2",
   "metadata": {},
   "source": [
    "The overall goal of this project is to provide an analysis of good electric cars to purchase and raise awareness that electric car can save money and maintain high driving performances. Therefore, the research questions are the following:\n",
    "1. What is the fuel cost benefits of owning a electric car compared to a regualr gasoline car?\n",
    "    - H1.1: The annual fuel cost for owning an electric could be at least 20 percent less than owning a gasoline car, asssuming in a major metropolis.\n",
    "    - H1.2: The exact cost difference may change based on the location, but owning a electric will be generally cheaper than owning a gasoline car.\n",
    "2. What are the drawbacks of earning an electric car?\n",
    "    - H3.1: Electric cars will have shorter driving range than normal gasoline cars.\n",
    "    - H3.2: Electric cars costs more upfront as the purchase price in comparision to gasoline cars in general\n",
    "3. Which brand and model of the electric cars is the most worthy for purchase?\n",
    "    - 4.1: non-luxury car brand will produce better overall vehicles that have a fairly good performances compared to lower level vehicle brands.\n",
    "    - 4.2: Luxury electric brand have a high price but may also have a better performance for an elavated driving experience compared to lower priced electric cars."
   ]
  },
  {
   "cell_type": "markdown",
   "id": "d43995c2-5aae-4554-a4ac-416e89d0b414",
   "metadata": {},
   "source": [
    "## Background / Related Work"
   ]
  },
  {
   "cell_type": "markdown",
   "id": "a9b1921f-a3d7-4d7b-a83e-e7ca54bbcbba",
   "metadata": {},
   "source": [
    "What is already known about the phenomenon you are investigating? What previous research on this phenomenon (or related phenomena) has been performed, and what were the findings?\n",
    "How does previous research or background information inform your decision to perform this study, the way you designed the study, or your specific research questions you chose? Make sure to include references (endnotes and/or inline hyperlinks) to the sources of background information--whether they are websites, news articles, or peer-reviewed research."
   ]
  },
  {
   "cell_type": "markdown",
   "id": "5b263856-81bc-4314-a6b2-6f39a45c09e4",
   "metadata": {},
   "source": [
    "Electric vehicles has earned its popularity in the market, but different people has various feelings about if buying an EV vehicle is the correct move. I have been intrigued by this issue as well after reading [Electric vehicles get mixed reception from American consumers](https://www.pewresearch.org/fact-tank/2021/06/03/electric-vehicles-get-mixed-reception-from-american-consumers/). The reserach surved 13,749 US adults, with inclusion of 912 Gen Z adults born after 1996. Then, they have found out that 39% of adults says that they will likely purchase an electric vehicle and 46% says that they will not purchase one. 14% of the participants do not plan to buy a vehicle in the future. Further reading about this reserach, even though majority of the participants agree that EV cars can contribute to the environemnt, the cost is a big issue that they are oppose with the concept. Along with some other results in this reserach, I got inspired to do a project to compare electric cars and gasoline cars, and potentially convince more drivers to purhcase EV cars and reduce the myth that the electric cars is unaffordable. \n",
    "\n",
    "Then, I come across with this news article [Can an electric car really help you save money as gas prices soar? What experts say](https://www.miamiherald.com/news/nation-world/national/article259430229.html). This article has performed some basic comparision between the cost of EV vehicles and gasoline vehicles. It shows that there will be different fuel saving based on different states, and the fuel saving in some states could be twice as much as another state. Additionally, the overall cost to run a gas vehicle is more than running an electric vehicle, and again, the difference could be way less significant based on the state that costumers live in compared to other states. \n",
    "\n",
    "In my project, I will arbitaryly assign that the costumers live in **Washington State**. I will also be putting in the assumption that the costumers will have road trips along the west coast and nearby states. Therefore, majority of the states will be dismissed from the analysis for simplicity purpose at this stage. "
   ]
  },
  {
   "cell_type": "markdown",
   "id": "266a5d45-419c-4104-ba83-4ccf6bd8b560",
   "metadata": {},
   "source": [
    "## Methodology"
   ]
  },
  {
   "cell_type": "markdown",
   "id": "f99d9b18-1ec4-4fd9-95d3-0d3a3b6f2df3",
   "metadata": {},
   "source": [
    "### Analytical Methods"
   ]
  },
  {
   "cell_type": "markdown",
   "id": "f01cdf3b-026c-4634-a7c0-68d46bfcc136",
   "metadata": {},
   "source": [
    "In terms of analyzing data between the electric car database and gasoline car database, I will use welch t test to perform over the dataset of a certain category (acceleration, top speed, etc.) between two dataset and obtain the p value. The a low p value will demonstrate the high statistical signficance of the observed differences. The reason that I choose welch's t test is based on the hypothesis that the two population size (in this case, the amount of car data recorded in each dataset) is different. And more than likely, these two dataset may have different variances because they are from two separate dataset that is targeting two different car category. Other than that, I will mainly use simple calculations to capture new data, such as calculating the fuel costs of electric cars and gasoline cars at a certain location and compare the results for the report."
   ]
  },
  {
   "cell_type": "markdown",
   "id": "f14f31fb-a93e-4ba8-94bd-7d1d6c2a7d3f",
   "metadata": {},
   "source": [
    "### Data Presentation Methods"
   ]
  },
  {
   "cell_type": "markdown",
   "id": "ef1852e6-b8a7-4c8c-8680-c127d45849c8",
   "metadata": {},
   "source": [
    "For the data presentation, I will be mainly using bar graph to show the differences between electric cars and gasoline cars in terms of performances and costs. The bar graph will display multiple comparable vehicles and compare their performance, purchase and cost data. Comparable means that the vehicle have same body type and are introduced to be categorized in the same vehicle class (sedan, SUV...) and preferrbly manufactured by the same vehicle brand. It is bascially the situation of same car but one uses gas and one uses electricity. These are the best visualization when presenting individual data category between the two group because it can show the differences between the two data in a very straight forward way and easily to see if one data is having a higher/lower value than the other one. \n",
    "\n",
    "Then I will show the overall schemes of performance, purchase price, and cost data using the box plot and put the plots right next to each other to better compare the data from electric cars and gasoline cars. The goal here is to see the general distribution of these categories for electric and gasoline cars, and the box plot will perfectly demonstrate how wide does the dataset span and the general locations that they span between the two sets of data, under the same scale. This is to get a general sense of how much does the data change between each category and offer an expecatation regarding how likely will vehicles vary from each other, either between electric/gasoline category or different vehicles within the same category. "
   ]
  },
  {
   "cell_type": "code",
   "execution_count": null,
   "id": "cfd1d292-800d-4f89-a358-f4574bf14eac",
   "metadata": {},
   "outputs": [],
   "source": []
  }
 ],
 "metadata": {
  "kernelspec": {
   "display_name": "Python 3 (ipykernel)",
   "language": "python",
   "name": "python3"
  },
  "language_info": {
   "codemirror_mode": {
    "name": "ipython",
    "version": 3
   },
   "file_extension": ".py",
   "mimetype": "text/x-python",
   "name": "python",
   "nbconvert_exporter": "python",
   "pygments_lexer": "ipython3",
   "version": "3.9.7"
  }
 },
 "nbformat": 4,
 "nbformat_minor": 5
}
